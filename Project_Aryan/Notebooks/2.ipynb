{
 "cells": [
  {
   "cell_type": "code",
   "id": "initial_id",
   "metadata": {
    "collapsed": true,
    "ExecuteTime": {
     "end_time": "2024-12-11T01:03:22.695524Z",
     "start_time": "2024-12-11T01:03:22.462434Z"
    }
   },
   "source": [
    "import pandas as pd\n",
    "file_path = 'education.xlsx'\n",
    "table_5_2 = pd.read_excel(file_path, sheet_name='Table 5.2', skiprows=1)[1:]\n",
    "table_5_4 = pd.read_excel(file_path, sheet_name='Table 5.4', skiprows=1)"
   ],
   "outputs": [],
   "execution_count": 2
  },
  {
   "metadata": {
    "ExecuteTime": {
     "end_time": "2024-12-11T01:18:24.497050Z",
     "start_time": "2024-12-11T01:18:24.488878Z"
    }
   },
   "cell_type": "code",
   "source": [
    "import warnings\n",
    "from pandas.errors import SettingWithCopyWarning\n",
    "\n",
    "warnings.simplefilter(action='ignore', category=SettingWithCopyWarning)"
   ],
   "id": "d56d6ec7a4847a04",
   "outputs": [],
   "execution_count": 28
  },
  {
   "metadata": {
    "ExecuteTime": {
     "end_time": "2024-12-11T01:03:23.616308Z",
     "start_time": "2024-12-11T01:03:23.613629Z"
    }
   },
   "cell_type": "code",
   "source": [
    "table_5_2.columns = [\n",
    "    'Typical_Entry_Level_Education',\n",
    "    'Employment_2019',\n",
    "    'Employment_Distribution_2019',\n",
    "    'Employment_Change_Percent_2019_29',\n",
    "    'Median_Annual_Wage_2020'\n",
    "]"
   ],
   "id": "4b40728dd77bae6e",
   "outputs": [],
   "execution_count": 3
  },
  {
   "metadata": {
    "ExecuteTime": {
     "end_time": "2024-12-11T01:03:24.759691Z",
     "start_time": "2024-12-11T01:03:24.749488Z"
    }
   },
   "cell_type": "code",
   "source": [
    "table_5_2 = table_5_2.dropna()\n",
    "table_5_2"
   ],
   "id": "1fd5bd7feb36d06b",
   "outputs": [
    {
     "data": {
      "text/plain": [
       "       Typical_Entry_Level_Education  Employment_2019  \\\n",
       "1    Doctoral or professional degree           4412.8   \n",
       "2                    Master's degree           2633.9   \n",
       "3                  Bachelor's degree          36864.2   \n",
       "4                 Associate's degree           3601.6   \n",
       "5      Postsecondary nondegree award          10093.2   \n",
       "6            Some college, no degree           4085.0   \n",
       "7  High school diploma or equivalent          62410.0   \n",
       "8   No formal educational credential          38694.8   \n",
       "\n",
       "   Employment_Distribution_2019  Employment_Change_Percent_2019_29  \\\n",
       "1                           2.7                                5.9   \n",
       "2                           1.6                               15.0   \n",
       "3                          22.6                                6.4   \n",
       "4                           2.2                                6.2   \n",
       "5                           6.2                                5.6   \n",
       "6                           2.5                               -0.1   \n",
       "7                          38.3                                1.5   \n",
       "8                          23.8                                3.3   \n",
       "\n",
       "   Median_Annual_Wage_2020  \n",
       "1                 110200.0  \n",
       "2                  78210.0  \n",
       "3                  77920.0  \n",
       "4                  56590.0  \n",
       "5                  41520.0  \n",
       "6                  37770.0  \n",
       "7                  39070.0  \n",
       "8                  27510.0  "
      ],
      "text/html": [
       "<div>\n",
       "<style scoped>\n",
       "    .dataframe tbody tr th:only-of-type {\n",
       "        vertical-align: middle;\n",
       "    }\n",
       "\n",
       "    .dataframe tbody tr th {\n",
       "        vertical-align: top;\n",
       "    }\n",
       "\n",
       "    .dataframe thead th {\n",
       "        text-align: right;\n",
       "    }\n",
       "</style>\n",
       "<table border=\"1\" class=\"dataframe\">\n",
       "  <thead>\n",
       "    <tr style=\"text-align: right;\">\n",
       "      <th></th>\n",
       "      <th>Typical_Entry_Level_Education</th>\n",
       "      <th>Employment_2019</th>\n",
       "      <th>Employment_Distribution_2019</th>\n",
       "      <th>Employment_Change_Percent_2019_29</th>\n",
       "      <th>Median_Annual_Wage_2020</th>\n",
       "    </tr>\n",
       "  </thead>\n",
       "  <tbody>\n",
       "    <tr>\n",
       "      <th>1</th>\n",
       "      <td>Doctoral or professional degree</td>\n",
       "      <td>4412.8</td>\n",
       "      <td>2.7</td>\n",
       "      <td>5.9</td>\n",
       "      <td>110200.0</td>\n",
       "    </tr>\n",
       "    <tr>\n",
       "      <th>2</th>\n",
       "      <td>Master's degree</td>\n",
       "      <td>2633.9</td>\n",
       "      <td>1.6</td>\n",
       "      <td>15.0</td>\n",
       "      <td>78210.0</td>\n",
       "    </tr>\n",
       "    <tr>\n",
       "      <th>3</th>\n",
       "      <td>Bachelor's degree</td>\n",
       "      <td>36864.2</td>\n",
       "      <td>22.6</td>\n",
       "      <td>6.4</td>\n",
       "      <td>77920.0</td>\n",
       "    </tr>\n",
       "    <tr>\n",
       "      <th>4</th>\n",
       "      <td>Associate's degree</td>\n",
       "      <td>3601.6</td>\n",
       "      <td>2.2</td>\n",
       "      <td>6.2</td>\n",
       "      <td>56590.0</td>\n",
       "    </tr>\n",
       "    <tr>\n",
       "      <th>5</th>\n",
       "      <td>Postsecondary nondegree award</td>\n",
       "      <td>10093.2</td>\n",
       "      <td>6.2</td>\n",
       "      <td>5.6</td>\n",
       "      <td>41520.0</td>\n",
       "    </tr>\n",
       "    <tr>\n",
       "      <th>6</th>\n",
       "      <td>Some college, no degree</td>\n",
       "      <td>4085.0</td>\n",
       "      <td>2.5</td>\n",
       "      <td>-0.1</td>\n",
       "      <td>37770.0</td>\n",
       "    </tr>\n",
       "    <tr>\n",
       "      <th>7</th>\n",
       "      <td>High school diploma or equivalent</td>\n",
       "      <td>62410.0</td>\n",
       "      <td>38.3</td>\n",
       "      <td>1.5</td>\n",
       "      <td>39070.0</td>\n",
       "    </tr>\n",
       "    <tr>\n",
       "      <th>8</th>\n",
       "      <td>No formal educational credential</td>\n",
       "      <td>38694.8</td>\n",
       "      <td>23.8</td>\n",
       "      <td>3.3</td>\n",
       "      <td>27510.0</td>\n",
       "    </tr>\n",
       "  </tbody>\n",
       "</table>\n",
       "</div>"
      ]
     },
     "execution_count": 4,
     "metadata": {},
     "output_type": "execute_result"
    }
   ],
   "execution_count": 4
  },
  {
   "metadata": {
    "ExecuteTime": {
     "end_time": "2024-12-11T01:03:26.724011Z",
     "start_time": "2024-12-11T01:03:26.715059Z"
    }
   },
   "cell_type": "code",
   "source": [
    "table_5_4.columns = [\n",
    "    'Job_Title',\n",
    "    'Code',\n",
    "    'Typical_Education',\n",
    "    'Work_Experience',\n",
    "    'On_The_Job_Training'\n",
    "]"
   ],
   "id": "1d91be493820898d",
   "outputs": [],
   "execution_count": 5
  },
  {
   "metadata": {
    "ExecuteTime": {
     "end_time": "2024-12-11T01:03:28.207972Z",
     "start_time": "2024-12-11T01:03:28.200924Z"
    }
   },
   "cell_type": "code",
   "source": [
    "table_5_4['Work_Experience'] = table_5_4['Work_Experience'].fillna('No prior experience')\n",
    "table_5_4 = table_5_4.drop(columns='On_The_Job_Training')\n",
    "table_5_4 = table_5_4.dropna()"
   ],
   "id": "ee845a8e881dae7b",
   "outputs": [],
   "execution_count": 6
  },
  {
   "metadata": {
    "ExecuteTime": {
     "end_time": "2024-12-11T01:03:29.209300Z",
     "start_time": "2024-12-11T01:03:29.202829Z"
    }
   },
   "cell_type": "code",
   "source": "table_5_4",
   "id": "f0a8457c31c5da78",
   "outputs": [
    {
     "data": {
      "text/plain": [
       "                                     Job_Title     Code  \\\n",
       "0                             Chief executives  11-1011   \n",
       "1              General and operations managers  11-1021   \n",
       "2                                  Legislators  11-1031   \n",
       "3          Advertising and promotions managers  11-2011   \n",
       "4                           Marketing managers  11-2021   \n",
       "..                                         ...      ...   \n",
       "785    Pump operators, except wellhead pumpers  53-7072   \n",
       "786                           Wellhead pumpers  53-7073   \n",
       "787  Refuse and recyclable material collectors  53-7081   \n",
       "788          Tank car, truck, and ship loaders  53-7121   \n",
       "789         Material moving workers, all other  53-7199   \n",
       "\n",
       "                     Typical_Education      Work_Experience  \n",
       "0                    Bachelor's degree      5 years or more  \n",
       "1                    Bachelor's degree      5 years or more  \n",
       "2                    Bachelor's degree    Less than 5 years  \n",
       "3                    Bachelor's degree    Less than 5 years  \n",
       "4                    Bachelor's degree      5 years or more  \n",
       "..                                 ...                  ...  \n",
       "785  High school diploma or equivalent  No prior experience  \n",
       "786  High school diploma or equivalent    Less than 5 years  \n",
       "787   No formal educational credential  No prior experience  \n",
       "788   No formal educational credential  No prior experience  \n",
       "789   No formal educational credential  No prior experience  \n",
       "\n",
       "[790 rows x 4 columns]"
      ],
      "text/html": [
       "<div>\n",
       "<style scoped>\n",
       "    .dataframe tbody tr th:only-of-type {\n",
       "        vertical-align: middle;\n",
       "    }\n",
       "\n",
       "    .dataframe tbody tr th {\n",
       "        vertical-align: top;\n",
       "    }\n",
       "\n",
       "    .dataframe thead th {\n",
       "        text-align: right;\n",
       "    }\n",
       "</style>\n",
       "<table border=\"1\" class=\"dataframe\">\n",
       "  <thead>\n",
       "    <tr style=\"text-align: right;\">\n",
       "      <th></th>\n",
       "      <th>Job_Title</th>\n",
       "      <th>Code</th>\n",
       "      <th>Typical_Education</th>\n",
       "      <th>Work_Experience</th>\n",
       "    </tr>\n",
       "  </thead>\n",
       "  <tbody>\n",
       "    <tr>\n",
       "      <th>0</th>\n",
       "      <td>Chief executives</td>\n",
       "      <td>11-1011</td>\n",
       "      <td>Bachelor's degree</td>\n",
       "      <td>5 years or more</td>\n",
       "    </tr>\n",
       "    <tr>\n",
       "      <th>1</th>\n",
       "      <td>General and operations managers</td>\n",
       "      <td>11-1021</td>\n",
       "      <td>Bachelor's degree</td>\n",
       "      <td>5 years or more</td>\n",
       "    </tr>\n",
       "    <tr>\n",
       "      <th>2</th>\n",
       "      <td>Legislators</td>\n",
       "      <td>11-1031</td>\n",
       "      <td>Bachelor's degree</td>\n",
       "      <td>Less than 5 years</td>\n",
       "    </tr>\n",
       "    <tr>\n",
       "      <th>3</th>\n",
       "      <td>Advertising and promotions managers</td>\n",
       "      <td>11-2011</td>\n",
       "      <td>Bachelor's degree</td>\n",
       "      <td>Less than 5 years</td>\n",
       "    </tr>\n",
       "    <tr>\n",
       "      <th>4</th>\n",
       "      <td>Marketing managers</td>\n",
       "      <td>11-2021</td>\n",
       "      <td>Bachelor's degree</td>\n",
       "      <td>5 years or more</td>\n",
       "    </tr>\n",
       "    <tr>\n",
       "      <th>...</th>\n",
       "      <td>...</td>\n",
       "      <td>...</td>\n",
       "      <td>...</td>\n",
       "      <td>...</td>\n",
       "    </tr>\n",
       "    <tr>\n",
       "      <th>785</th>\n",
       "      <td>Pump operators, except wellhead pumpers</td>\n",
       "      <td>53-7072</td>\n",
       "      <td>High school diploma or equivalent</td>\n",
       "      <td>No prior experience</td>\n",
       "    </tr>\n",
       "    <tr>\n",
       "      <th>786</th>\n",
       "      <td>Wellhead pumpers</td>\n",
       "      <td>53-7073</td>\n",
       "      <td>High school diploma or equivalent</td>\n",
       "      <td>Less than 5 years</td>\n",
       "    </tr>\n",
       "    <tr>\n",
       "      <th>787</th>\n",
       "      <td>Refuse and recyclable material collectors</td>\n",
       "      <td>53-7081</td>\n",
       "      <td>No formal educational credential</td>\n",
       "      <td>No prior experience</td>\n",
       "    </tr>\n",
       "    <tr>\n",
       "      <th>788</th>\n",
       "      <td>Tank car, truck, and ship loaders</td>\n",
       "      <td>53-7121</td>\n",
       "      <td>No formal educational credential</td>\n",
       "      <td>No prior experience</td>\n",
       "    </tr>\n",
       "    <tr>\n",
       "      <th>789</th>\n",
       "      <td>Material moving workers, all other</td>\n",
       "      <td>53-7199</td>\n",
       "      <td>No formal educational credential</td>\n",
       "      <td>No prior experience</td>\n",
       "    </tr>\n",
       "  </tbody>\n",
       "</table>\n",
       "<p>790 rows × 4 columns</p>\n",
       "</div>"
      ]
     },
     "execution_count": 7,
     "metadata": {},
     "output_type": "execute_result"
    }
   ],
   "execution_count": 7
  },
  {
   "metadata": {
    "ExecuteTime": {
     "end_time": "2024-12-11T01:03:31.021534Z",
     "start_time": "2024-12-11T01:03:30.997883Z"
    }
   },
   "cell_type": "code",
   "source": [
    "merged_data = pd.merge(\n",
    "    table_5_2,\n",
    "    table_5_4,\n",
    "    how='inner',\n",
    "    left_on='Typical_Entry_Level_Education',\n",
    "    right_on='Typical_Education'\n",
    ")\n",
    "\n",
    "# Step 3: Display merged data\n",
    "print(\"Merged Data:\")\n",
    "merged_data"
   ],
   "id": "c14c2d565c27b289",
   "outputs": [
    {
     "name": "stdout",
     "output_type": "stream",
     "text": [
      "Merged Data:\n"
     ]
    },
    {
     "data": {
      "text/plain": [
       "        Typical_Entry_Level_Education  Employment_2019  \\\n",
       "0     Doctoral or professional degree           4412.8   \n",
       "1     Doctoral or professional degree           4412.8   \n",
       "2     Doctoral or professional degree           4412.8   \n",
       "3     Doctoral or professional degree           4412.8   \n",
       "4     Doctoral or professional degree           4412.8   \n",
       "..                                ...              ...   \n",
       "785  No formal educational credential          38694.8   \n",
       "786  No formal educational credential          38694.8   \n",
       "787  No formal educational credential          38694.8   \n",
       "788  No formal educational credential          38694.8   \n",
       "789  No formal educational credential          38694.8   \n",
       "\n",
       "     Employment_Distribution_2019  Employment_Change_Percent_2019_29  \\\n",
       "0                             2.7                                5.9   \n",
       "1                             2.7                                5.9   \n",
       "2                             2.7                                5.9   \n",
       "3                             2.7                                5.9   \n",
       "4                             2.7                                5.9   \n",
       "..                            ...                                ...   \n",
       "785                          23.8                                3.3   \n",
       "786                          23.8                                3.3   \n",
       "787                          23.8                                3.3   \n",
       "788                          23.8                                3.3   \n",
       "789                          23.8                                3.3   \n",
       "\n",
       "     Median_Annual_Wage_2020                                       Job_Title  \\\n",
       "0                   110200.0                   Biochemists and biophysicists   \n",
       "1                   110200.0      Medical scientists, except epidemiologists   \n",
       "2                   110200.0                                     Astronomers   \n",
       "3                   110200.0                                      Physicists   \n",
       "4                   110200.0  Clinical, counseling, and school psychologists   \n",
       "..                       ...                                             ...   \n",
       "785                  27510.0                  Machine feeders and offbearers   \n",
       "786                  27510.0                     Packers and packagers, hand   \n",
       "787                  27510.0       Refuse and recyclable material collectors   \n",
       "788                  27510.0               Tank car, truck, and ship loaders   \n",
       "789                  27510.0              Material moving workers, all other   \n",
       "\n",
       "        Code                 Typical_Education      Work_Experience  \n",
       "0    19-1021   Doctoral or professional degree  No prior experience  \n",
       "1    19-1042   Doctoral or professional degree  No prior experience  \n",
       "2    19-2011   Doctoral or professional degree  No prior experience  \n",
       "3    19-2012   Doctoral or professional degree  No prior experience  \n",
       "4    19-3031   Doctoral or professional degree  No prior experience  \n",
       "..       ...                               ...                  ...  \n",
       "785  53-7063  No formal educational credential  No prior experience  \n",
       "786  53-7064  No formal educational credential  No prior experience  \n",
       "787  53-7081  No formal educational credential  No prior experience  \n",
       "788  53-7121  No formal educational credential  No prior experience  \n",
       "789  53-7199  No formal educational credential  No prior experience  \n",
       "\n",
       "[790 rows x 9 columns]"
      ],
      "text/html": [
       "<div>\n",
       "<style scoped>\n",
       "    .dataframe tbody tr th:only-of-type {\n",
       "        vertical-align: middle;\n",
       "    }\n",
       "\n",
       "    .dataframe tbody tr th {\n",
       "        vertical-align: top;\n",
       "    }\n",
       "\n",
       "    .dataframe thead th {\n",
       "        text-align: right;\n",
       "    }\n",
       "</style>\n",
       "<table border=\"1\" class=\"dataframe\">\n",
       "  <thead>\n",
       "    <tr style=\"text-align: right;\">\n",
       "      <th></th>\n",
       "      <th>Typical_Entry_Level_Education</th>\n",
       "      <th>Employment_2019</th>\n",
       "      <th>Employment_Distribution_2019</th>\n",
       "      <th>Employment_Change_Percent_2019_29</th>\n",
       "      <th>Median_Annual_Wage_2020</th>\n",
       "      <th>Job_Title</th>\n",
       "      <th>Code</th>\n",
       "      <th>Typical_Education</th>\n",
       "      <th>Work_Experience</th>\n",
       "    </tr>\n",
       "  </thead>\n",
       "  <tbody>\n",
       "    <tr>\n",
       "      <th>0</th>\n",
       "      <td>Doctoral or professional degree</td>\n",
       "      <td>4412.8</td>\n",
       "      <td>2.7</td>\n",
       "      <td>5.9</td>\n",
       "      <td>110200.0</td>\n",
       "      <td>Biochemists and biophysicists</td>\n",
       "      <td>19-1021</td>\n",
       "      <td>Doctoral or professional degree</td>\n",
       "      <td>No prior experience</td>\n",
       "    </tr>\n",
       "    <tr>\n",
       "      <th>1</th>\n",
       "      <td>Doctoral or professional degree</td>\n",
       "      <td>4412.8</td>\n",
       "      <td>2.7</td>\n",
       "      <td>5.9</td>\n",
       "      <td>110200.0</td>\n",
       "      <td>Medical scientists, except epidemiologists</td>\n",
       "      <td>19-1042</td>\n",
       "      <td>Doctoral or professional degree</td>\n",
       "      <td>No prior experience</td>\n",
       "    </tr>\n",
       "    <tr>\n",
       "      <th>2</th>\n",
       "      <td>Doctoral or professional degree</td>\n",
       "      <td>4412.8</td>\n",
       "      <td>2.7</td>\n",
       "      <td>5.9</td>\n",
       "      <td>110200.0</td>\n",
       "      <td>Astronomers</td>\n",
       "      <td>19-2011</td>\n",
       "      <td>Doctoral or professional degree</td>\n",
       "      <td>No prior experience</td>\n",
       "    </tr>\n",
       "    <tr>\n",
       "      <th>3</th>\n",
       "      <td>Doctoral or professional degree</td>\n",
       "      <td>4412.8</td>\n",
       "      <td>2.7</td>\n",
       "      <td>5.9</td>\n",
       "      <td>110200.0</td>\n",
       "      <td>Physicists</td>\n",
       "      <td>19-2012</td>\n",
       "      <td>Doctoral or professional degree</td>\n",
       "      <td>No prior experience</td>\n",
       "    </tr>\n",
       "    <tr>\n",
       "      <th>4</th>\n",
       "      <td>Doctoral or professional degree</td>\n",
       "      <td>4412.8</td>\n",
       "      <td>2.7</td>\n",
       "      <td>5.9</td>\n",
       "      <td>110200.0</td>\n",
       "      <td>Clinical, counseling, and school psychologists</td>\n",
       "      <td>19-3031</td>\n",
       "      <td>Doctoral or professional degree</td>\n",
       "      <td>No prior experience</td>\n",
       "    </tr>\n",
       "    <tr>\n",
       "      <th>...</th>\n",
       "      <td>...</td>\n",
       "      <td>...</td>\n",
       "      <td>...</td>\n",
       "      <td>...</td>\n",
       "      <td>...</td>\n",
       "      <td>...</td>\n",
       "      <td>...</td>\n",
       "      <td>...</td>\n",
       "      <td>...</td>\n",
       "    </tr>\n",
       "    <tr>\n",
       "      <th>785</th>\n",
       "      <td>No formal educational credential</td>\n",
       "      <td>38694.8</td>\n",
       "      <td>23.8</td>\n",
       "      <td>3.3</td>\n",
       "      <td>27510.0</td>\n",
       "      <td>Machine feeders and offbearers</td>\n",
       "      <td>53-7063</td>\n",
       "      <td>No formal educational credential</td>\n",
       "      <td>No prior experience</td>\n",
       "    </tr>\n",
       "    <tr>\n",
       "      <th>786</th>\n",
       "      <td>No formal educational credential</td>\n",
       "      <td>38694.8</td>\n",
       "      <td>23.8</td>\n",
       "      <td>3.3</td>\n",
       "      <td>27510.0</td>\n",
       "      <td>Packers and packagers, hand</td>\n",
       "      <td>53-7064</td>\n",
       "      <td>No formal educational credential</td>\n",
       "      <td>No prior experience</td>\n",
       "    </tr>\n",
       "    <tr>\n",
       "      <th>787</th>\n",
       "      <td>No formal educational credential</td>\n",
       "      <td>38694.8</td>\n",
       "      <td>23.8</td>\n",
       "      <td>3.3</td>\n",
       "      <td>27510.0</td>\n",
       "      <td>Refuse and recyclable material collectors</td>\n",
       "      <td>53-7081</td>\n",
       "      <td>No formal educational credential</td>\n",
       "      <td>No prior experience</td>\n",
       "    </tr>\n",
       "    <tr>\n",
       "      <th>788</th>\n",
       "      <td>No formal educational credential</td>\n",
       "      <td>38694.8</td>\n",
       "      <td>23.8</td>\n",
       "      <td>3.3</td>\n",
       "      <td>27510.0</td>\n",
       "      <td>Tank car, truck, and ship loaders</td>\n",
       "      <td>53-7121</td>\n",
       "      <td>No formal educational credential</td>\n",
       "      <td>No prior experience</td>\n",
       "    </tr>\n",
       "    <tr>\n",
       "      <th>789</th>\n",
       "      <td>No formal educational credential</td>\n",
       "      <td>38694.8</td>\n",
       "      <td>23.8</td>\n",
       "      <td>3.3</td>\n",
       "      <td>27510.0</td>\n",
       "      <td>Material moving workers, all other</td>\n",
       "      <td>53-7199</td>\n",
       "      <td>No formal educational credential</td>\n",
       "      <td>No prior experience</td>\n",
       "    </tr>\n",
       "  </tbody>\n",
       "</table>\n",
       "<p>790 rows × 9 columns</p>\n",
       "</div>"
      ]
     },
     "execution_count": 8,
     "metadata": {},
     "output_type": "execute_result"
    }
   ],
   "execution_count": 8
  },
  {
   "metadata": {
    "ExecuteTime": {
     "end_time": "2024-12-11T01:03:33.258001Z",
     "start_time": "2024-12-11T01:03:33.250991Z"
    }
   },
   "cell_type": "code",
   "source": [
    "# To find the maximum value in a column\n",
    "max_value = merged_data['Median_Annual_Wage_2020'].max()\n",
    "print(\"Maximum value:\", max_value)\n",
    "\n",
    "# To find the minimum value in a column\n",
    "min_value = merged_data['Median_Annual_Wage_2020'].min()\n",
    "print(\"Minimum value:\", min_value)\n"
   ],
   "id": "7c1a80f4cb4b2d81",
   "outputs": [
    {
     "name": "stdout",
     "output_type": "stream",
     "text": [
      "Maximum value: 110200.0\n",
      "Minimum value: 27510.0\n"
     ]
    }
   ],
   "execution_count": 9
  },
  {
   "metadata": {
    "ExecuteTime": {
     "end_time": "2024-12-11T01:03:34.821458Z",
     "start_time": "2024-12-11T01:03:34.816293Z"
    }
   },
   "cell_type": "code",
   "source": "merged_data.columns",
   "id": "f0113f5bf023c30b",
   "outputs": [
    {
     "data": {
      "text/plain": [
       "Index(['Typical_Entry_Level_Education', 'Employment_2019',\n",
       "       'Employment_Distribution_2019', 'Employment_Change_Percent_2019_29',\n",
       "       'Median_Annual_Wage_2020', 'Job_Title', 'Code', 'Typical_Education',\n",
       "       'Work_Experience'],\n",
       "      dtype='object')"
      ]
     },
     "execution_count": 10,
     "metadata": {},
     "output_type": "execute_result"
    }
   ],
   "execution_count": 10
  },
  {
   "metadata": {
    "ExecuteTime": {
     "end_time": "2024-12-11T01:03:36.413769Z",
     "start_time": "2024-12-11T01:03:36.409503Z"
    }
   },
   "cell_type": "code",
   "source": "education_options = table_5_2['Typical_Entry_Level_Education'].unique()",
   "id": "ac3fc1dedea91c17",
   "outputs": [],
   "execution_count": 11
  },
  {
   "metadata": {
    "ExecuteTime": {
     "end_time": "2024-12-11T01:04:15.010444Z",
     "start_time": "2024-12-11T01:04:04.865757Z"
    }
   },
   "cell_type": "code",
   "source": [
    "def get_user_input():\n",
    "    print(\"Please enter your education level:\")\n",
    "\n",
    "    # Get user's choice\n",
    "    education_level = int(input(f\"Enter the number corresponding to your education level (1 to {len(education_options)}): \"))\n",
    "\n",
    "    print(\"Please enter your desired minimum salary:\")\n",
    "    desired_salary = float(input(\"Enter the minimum salary (e.g., 60000): \"))\n",
    "\n",
    "    # Return the selected education and desired salary\n",
    "    selected_education = education_options[education_level - 1]\n",
    "    return selected_education, desired_salary\n",
    "\n",
    "# Get the unique education options from the dataset\n",
    "get_user_input()\n"
   ],
   "id": "15fd5dcf98f8b1bf",
   "outputs": [
    {
     "name": "stdout",
     "output_type": "stream",
     "text": [
      "Please enter your education level:\n",
      "Please enter your desired minimum salary:\n"
     ]
    },
    {
     "data": {
      "text/plain": [
       "(\"Master's degree\", 50000.0)"
      ]
     },
     "execution_count": 16,
     "metadata": {},
     "output_type": "execute_result"
    }
   ],
   "execution_count": 16
  },
  {
   "metadata": {},
   "cell_type": "code",
   "outputs": [],
   "execution_count": null,
   "source": "# Content Based Filtering",
   "id": "7c4a1798130aed64"
  },
  {
   "metadata": {
    "ExecuteTime": {
     "end_time": "2024-12-10T23:50:25.258241Z",
     "start_time": "2024-12-10T23:50:25.255724Z"
    }
   },
   "cell_type": "code",
   "source": [
    "import pandas as pd\n",
    "from sklearn.feature_extraction.text import TfidfVectorizer\n",
    "from sklearn.metrics.pairwise import cosine_similarity"
   ],
   "id": "d01874ae639e3ba5",
   "outputs": [],
   "execution_count": 19
  },
  {
   "metadata": {
    "ExecuteTime": {
     "end_time": "2024-12-11T01:03:44.341485Z",
     "start_time": "2024-12-11T01:03:44.337822Z"
    }
   },
   "cell_type": "code",
   "source": [
    "# Preprocess the data for content-based filtering\n",
    "def preprocess_job_data(df):\n",
    "    # Modify the DataFrame safely using `.loc[]`\n",
    "    df.loc[:, 'Salary'] = df['Median_Annual_Wage_2020'].apply(lambda x: f\"salary_{int(x // 10000)}k\")\n",
    "    df.loc[:, 'Combined_Features'] = (df['Typical_Education'].fillna('') + ' ' +\n",
    "                                      df['Work_Experience'].fillna('') + ' ' +\n",
    "                                      df['Salary'])\n",
    "    return df\n",
    "\n"
   ],
   "id": "fd9336d41494a122",
   "outputs": [],
   "execution_count": 13
  },
  {
   "metadata": {
    "ExecuteTime": {
     "end_time": "2024-12-11T01:16:30.075534Z",
     "start_time": "2024-12-11T01:16:30.065209Z"
    }
   },
   "cell_type": "code",
   "source": [
    "def filter_salary_data(df, desired_salary):\n",
    "    # Filter data based on the desired minimum salary\n",
    "    salary_max = desired_salary + 15000\n",
    "    salary_min = desired_salary - 15000\n",
    "    filtered_df = df[(df['Median_Annual_Wage_2020'] >= salary_min) & (df['Median_Annual_Wage_2020'] <= salary_max)]\n",
    "    return filtered_df\n"
   ],
   "id": "89c5592641ae7665",
   "outputs": [],
   "execution_count": 25
  },
  {
   "metadata": {
    "ExecuteTime": {
     "end_time": "2024-12-11T01:16:31.316972Z",
     "start_time": "2024-12-11T01:16:31.312799Z"
    }
   },
   "cell_type": "code",
   "source": [
    "def build_recommendation_system(df, user_education, desired_salary):\n",
    "    # Step 1: Filter jobs by salary\n",
    "    df = df.copy()\n",
    "    salary_filtered_df = filter_salary_data(df, desired_salary)\n",
    "\n",
    "    # Check if any jobs meet the salary criteria\n",
    "    if salary_filtered_df.empty:\n",
    "        print(\"\\nNo jobs meet your desired salary. You may need to lower your salary expectations.\")\n",
    "        return pd.DataFrame()  # Return empty DataFrame\n",
    "\n",
    "    # Step 2: Preprocess data and combine features\n",
    "    salary_filtered_df = preprocess_job_data(salary_filtered_df)\n",
    "\n",
    "    # Add user query as a new row\n",
    "    user_query = {'Typical_Education': user_education,\n",
    "                  'Work_Experience': 'No prior experience',\n",
    "                  'Median_Annual_Wage_2020': desired_salary,\n",
    "                  'Salary': f\"salary_{int(desired_salary // 10000)}k\",\n",
    "                  'Combined_Features': f\"{user_education} No prior experience salary_{int(desired_salary // 10000)}k\"}\n",
    "\n",
    "    # Append user query to the DataFrame\n",
    "    salary_filtered_df = pd.concat([salary_filtered_df, pd.DataFrame([user_query])], ignore_index=True)\n",
    "\n",
    "    # Step 3: TF-IDF Vectorization\n",
    "    vectorizer = TfidfVectorizer()\n",
    "    tfidf_matrix = vectorizer.fit_transform(salary_filtered_df['Combined_Features'])\n",
    "\n",
    "    # Step 4: Calculate Cosine Similarity\n",
    "    cosine_sim = cosine_similarity(tfidf_matrix, tfidf_matrix)\n",
    "\n",
    "    # Find the similarity scores for the last row (user query)\n",
    "    user_similarity_scores = cosine_sim[-1][:-1]\n",
    "\n",
    "    # Sort jobs by similarity scores\n",
    "    salary_filtered_df['Similarity'] = user_similarity_scores.tolist() + [1.0]  # Add 1.0 for the user query\n",
    "    recommendations = salary_filtered_df[:-1].sort_values(by='Similarity', ascending=False)\n",
    "\n",
    "    # Return top recommendations\n",
    "    if recommendations.empty:\n",
    "        print(\"\\nNo jobs match your education level. Consider obtaining higher qualifications.\")\n",
    "        return pd.DataFrame()\n",
    "    return recommendations[['Job_Title', 'Median_Annual_Wage_2020', 'Work_Experience']].head(5)\n"
   ],
   "id": "b24e34fc50ad7a99",
   "outputs": [],
   "execution_count": 26
  },
  {
   "metadata": {
    "ExecuteTime": {
     "end_time": "2024-12-11T01:04:25.307918Z",
     "start_time": "2024-12-11T01:04:25.305142Z"
    }
   },
   "cell_type": "code",
   "source": [
    "# Present the dynamic options based on the values in the 'Typical_Entry_Level_Education' column\n",
    "for idx, education in enumerate(education_options, 1):\n",
    "    print(f\"{idx}. {education}\")"
   ],
   "id": "efc7be60ebcb181a",
   "outputs": [
    {
     "name": "stdout",
     "output_type": "stream",
     "text": [
      "1. Doctoral or professional degree\n",
      "2. Master's degree\n",
      "3. Bachelor's degree\n",
      "4. Associate's degree\n",
      "5. Postsecondary nondegree award\n",
      "6. Some college, no degree\n",
      "7. High school diploma or equivalent\n",
      "8. No formal educational credential\n"
     ]
    }
   ],
   "execution_count": 19
  },
  {
   "metadata": {
    "ExecuteTime": {
     "end_time": "2024-12-11T01:18:35.500374Z",
     "start_time": "2024-12-11T01:18:28.028520Z"
    }
   },
   "cell_type": "code",
   "source": [
    "# User input\n",
    "user_education, desired_salary = get_user_input()\n",
    "\n",
    "# Build recommendation system\n",
    "recommendations = build_recommendation_system(merged_data, user_education, desired_salary)\n",
    "\n",
    "# Display results\n",
    "if not recommendations.empty:\n",
    "    print(\"\\nTop 5 Recommended Careers Based on Your Preferences:\")\n",
    "    display(recommendations)\n",
    "else:\n",
    "    print(\"\\nNo suitable recommendations found. Please adjust your inputs as suggested.\")\n",
    "\n"
   ],
   "id": "2d9b6d4db58671a",
   "outputs": [
    {
     "name": "stdout",
     "output_type": "stream",
     "text": [
      "Please enter your education level:\n",
      "Please enter your desired minimum salary:\n",
      "\n",
      "Top 5 Recommended Careers Based on Your Preferences:\n"
     ]
    },
    {
     "data": {
      "text/plain": [
       "                                       Job_Title  Median_Annual_Wage_2020  \\\n",
       "25                         Broadcast technicians                  56590.0   \n",
       "44                   Medical equipment repairers                  56590.0   \n",
       "24  Preschool teachers, except special education                  56590.0   \n",
       "1           Computer network support specialists                  56590.0   \n",
       "26                          Radiation therapists                  56590.0   \n",
       "\n",
       "        Work_Experience  \n",
       "25  No prior experience  \n",
       "44  No prior experience  \n",
       "24  No prior experience  \n",
       "1   No prior experience  \n",
       "26  No prior experience  "
      ],
      "text/html": [
       "<div>\n",
       "<style scoped>\n",
       "    .dataframe tbody tr th:only-of-type {\n",
       "        vertical-align: middle;\n",
       "    }\n",
       "\n",
       "    .dataframe tbody tr th {\n",
       "        vertical-align: top;\n",
       "    }\n",
       "\n",
       "    .dataframe thead th {\n",
       "        text-align: right;\n",
       "    }\n",
       "</style>\n",
       "<table border=\"1\" class=\"dataframe\">\n",
       "  <thead>\n",
       "    <tr style=\"text-align: right;\">\n",
       "      <th></th>\n",
       "      <th>Job_Title</th>\n",
       "      <th>Median_Annual_Wage_2020</th>\n",
       "      <th>Work_Experience</th>\n",
       "    </tr>\n",
       "  </thead>\n",
       "  <tbody>\n",
       "    <tr>\n",
       "      <th>25</th>\n",
       "      <td>Broadcast technicians</td>\n",
       "      <td>56590.0</td>\n",
       "      <td>No prior experience</td>\n",
       "    </tr>\n",
       "    <tr>\n",
       "      <th>44</th>\n",
       "      <td>Medical equipment repairers</td>\n",
       "      <td>56590.0</td>\n",
       "      <td>No prior experience</td>\n",
       "    </tr>\n",
       "    <tr>\n",
       "      <th>24</th>\n",
       "      <td>Preschool teachers, except special education</td>\n",
       "      <td>56590.0</td>\n",
       "      <td>No prior experience</td>\n",
       "    </tr>\n",
       "    <tr>\n",
       "      <th>1</th>\n",
       "      <td>Computer network support specialists</td>\n",
       "      <td>56590.0</td>\n",
       "      <td>No prior experience</td>\n",
       "    </tr>\n",
       "    <tr>\n",
       "      <th>26</th>\n",
       "      <td>Radiation therapists</td>\n",
       "      <td>56590.0</td>\n",
       "      <td>No prior experience</td>\n",
       "    </tr>\n",
       "  </tbody>\n",
       "</table>\n",
       "</div>"
      ]
     },
     "metadata": {},
     "output_type": "display_data"
    }
   ],
   "execution_count": 29
  }
 ],
 "metadata": {
  "kernelspec": {
   "display_name": "Python 3",
   "language": "python",
   "name": "python3"
  },
  "language_info": {
   "codemirror_mode": {
    "name": "ipython",
    "version": 2
   },
   "file_extension": ".py",
   "mimetype": "text/x-python",
   "name": "python",
   "nbconvert_exporter": "python",
   "pygments_lexer": "ipython2",
   "version": "2.7.6"
  }
 },
 "nbformat": 4,
 "nbformat_minor": 5
}
